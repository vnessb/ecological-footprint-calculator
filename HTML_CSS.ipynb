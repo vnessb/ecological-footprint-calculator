{
  "nbformat": 4,
  "nbformat_minor": 0,
  "metadata": {
    "colab": {
      "provenance": [],
      "authorship_tag": "ABX9TyOYr7587SCFcrd9R/zFqQVd",
      "include_colab_link": true
    },
    "kernelspec": {
      "name": "python3",
      "display_name": "Python 3"
    },
    "language_info": {
      "name": "python"
    }
  },
  "cells": [
    {
      "cell_type": "markdown",
      "metadata": {
        "id": "view-in-github",
        "colab_type": "text"
      },
      "source": [
        "<a href=\"https://colab.research.google.com/github/vnessb/ecological-footprint-calculator/blob/main/HTML_CSS.ipynb\" target=\"_parent\"><img src=\"https://colab.research.google.com/assets/colab-badge.svg\" alt=\"Open In Colab\"/></a>"
      ]
    },
    {
      "cell_type": "code",
      "execution_count": null,
      "metadata": {
        "colab": {
          "base_uri": "https://localhost:8080/"
        },
        "id": "DdjUoDVXfzBD",
        "outputId": "7ce65b5d-0a2b-4fbe-d418-006c3ab99846"
      },
      "outputs": [
        {
          "output_type": "stream",
          "name": "stdout",
          "text": [
            "Writing index.html\n"
          ]
        }
      ],
      "source": [
        "%%writefile index.html\n",
        "<!DOCTYPE html>\n",
        "<html lang=\"en\">\n",
        "<head>\n",
        "    <meta charset=\"UTF-8\">\n",
        "    <meta name=\"viewport\" content=\"width=device-width, initial-scale=1.0\">\n",
        "    <title>Ecological Footprint Calculator</title>\n",
        "    <link rel=\"stylesheet\" href=\"styles.css\">\n",
        "</head>\n",
        "<body>\n",
        "    <h1>Welcome to the Ecological Footprint Calculator</h1>\n",
        "    <form>\n",
        "        <label for=\"energy\">Energy Usage (kWh/month):</label>\n",
        "        <input type=\"number\" id=\"energy\" name=\"energy\" placeholder=\"Enter kWh\"><br><br>\n",
        "\n",
        "        <label for=\"transport\">Transportation (miles/week):</label>\n",
        "        <input type=\"number\" id=\"transport\" name=\"transport\" placeholder=\"Enter miles\"><br><br>\n",
        "\n",
        "        <button type=\"submit\">Calculate</button>\n",
        "    </form>\n",
        "</body>\n",
        "</html>"
      ]
    },
    {
      "cell_type": "code",
      "source": [
        "%%writefile styles.css\n",
        "body {\n",
        "    font-family: Arial, sans-serif;\n",
        "    margin: 20px;\n",
        "    text-align: center;\n",
        "    background-color: #f4f4f9;\n",
        "    color: #333;\n",
        "}\n",
        "\n",
        "h1 {\n",
        "    color: #006d77;\n",
        "}\n",
        "\n",
        "form {\n",
        "    margin: 20px auto;\n",
        "    width: 300px;\n",
        "    padding: 20px;\n",
        "    border: 1px solid #ddd;\n",
        "    border-radius: 10px;\n",
        "    background: #fff;\n",
        "}\n",
        "\n",
        "input {\n",
        "    width: 100%;\n",
        "    padding: 10px;\n",
        "    margin: 5px 0;\n",
        "    border: 1px solid #ddd;\n",
        "    border-radius: 5px;\n",
        "}\n",
        "\n",
        "button {\n",
        "    background-color: #006d77;\n",
        "    color: white;\n",
        "    padding: 10px 20px;\n",
        "    border: none;\n",
        "    border-radius: 5px;\n",
        "    cursor: pointer;\n",
        "}\n",
        "\n",
        "button:hover {\n",
        "    background-color: #005f6b;\n",
        "}"
      ],
      "metadata": {
        "colab": {
          "base_uri": "https://localhost:8080/"
        },
        "id": "3RN5vDUrf-Yc",
        "outputId": "92c96731-d16f-4f30-8b44-4c1cd3a8170a"
      },
      "execution_count": null,
      "outputs": [
        {
          "output_type": "stream",
          "name": "stdout",
          "text": [
            "Writing styles.css\n"
          ]
        }
      ]
    }
  ]
}